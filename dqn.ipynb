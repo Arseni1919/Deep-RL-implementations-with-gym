{
 "cells": [
  {
   "cell_type": "code",
   "execution_count": 11,
   "metadata": {},
   "outputs": [],
   "source": [
    "from IMPORTS import *\n",
    "# MountainCar-v0"
   ]
  },
  {
   "cell_type": "code",
   "execution_count": 7,
   "metadata": {},
   "outputs": [],
   "source": [
    "class Net(nn.Module):\n",
    "    def __init__(self, env):\n",
    "        super(Net, self).__init__()\n",
    "\n",
    "        conv_out_size = env.observation_space.shape[0]\n",
    "        n_actions = env.action_space.n\n",
    "\n",
    "        self.fc = nn.Sequential(\n",
    "            nn.Linear(conv_out_size, 256),\n",
    "            nn.ReLU(),\n",
    "            nn.Linear(256, n_actions)\n",
    "        )\n",
    "\n",
    "    def forward(self, x):\n",
    "        return self.fc(x)"
   ]
  },
  {
   "cell_type": "code",
   "execution_count": 119,
   "metadata": {},
   "outputs": [],
   "source": [
    "env = gym.make('MountainCar-v0')"
   ]
  },
  {
   "cell_type": "code",
   "execution_count": 121,
   "metadata": {},
   "outputs": [
    {
     "data": {
      "text/plain": [
       "Box(2,)"
      ]
     },
     "execution_count": 121,
     "metadata": {},
     "output_type": "execute_result"
    }
   ],
   "source": [
    "env.observation_space"
   ]
  },
  {
   "cell_type": "code",
   "execution_count": 30,
   "metadata": {},
   "outputs": [],
   "source": [
    "net = Net(env)"
   ]
  },
  {
   "cell_type": "code",
   "execution_count": 38,
   "metadata": {},
   "outputs": [],
   "source": [
    "curr_input = torch.Tensor([[0.25, 0.45],[0.87, 0.15]])"
   ]
  },
  {
   "cell_type": "code",
   "execution_count": 32,
   "metadata": {},
   "outputs": [
    {
     "data": {
      "text/plain": [
       "tensor([[-0.2620,  0.2332, -0.0692]], grad_fn=<AddmmBackward>)"
      ]
     },
     "execution_count": 32,
     "metadata": {},
     "output_type": "execute_result"
    }
   ],
   "source": [
    "net(curr_input)"
   ]
  },
  {
   "cell_type": "code",
   "execution_count": 33,
   "metadata": {},
   "outputs": [],
   "source": [
    "selector = ptan.actions.ArgmaxActionSelector()\n",
    "agent = ptan.agent.DQNAgent(action_selector=selector, dqn_model=net)"
   ]
  },
  {
   "cell_type": "code",
   "execution_count": 80,
   "metadata": {},
   "outputs": [
    {
     "data": {
      "text/plain": [
       "(array([0, 1]), [None, None])"
      ]
     },
     "execution_count": 80,
     "metadata": {},
     "output_type": "execute_result"
    }
   ],
   "source": [
    "agent(curr_input)\n"
   ]
  },
  {
   "cell_type": "code",
   "execution_count": 81,
   "metadata": {},
   "outputs": [],
   "source": [
    "selector = ptan.actions.EpsilonGreedyActionSelector(epsilon=0.5)\n",
    "agent = ptan.agent.DQNAgent(action_selector=selector, dqn_model=net)"
   ]
  },
  {
   "cell_type": "code",
   "execution_count": 82,
   "metadata": {},
   "outputs": [
    {
     "data": {
      "text/plain": [
       "(array([0, 0]), [None, None])"
      ]
     },
     "execution_count": 82,
     "metadata": {},
     "output_type": "execute_result"
    }
   ],
   "source": [
    "agent(curr_input)"
   ]
  },
  {
   "cell_type": "code",
   "execution_count": 83,
   "metadata": {},
   "outputs": [
    {
     "data": {
      "text/plain": [
       "0.5"
      ]
     },
     "execution_count": 83,
     "metadata": {},
     "output_type": "execute_result"
    }
   ],
   "source": [
    "selector.epsilon"
   ]
  },
  {
   "cell_type": "markdown",
   "metadata": {},
   "source": [
    "# Experience Source"
   ]
  },
  {
   "cell_type": "code",
   "execution_count": 129,
   "metadata": {},
   "outputs": [],
   "source": [
    "# ptan.common.wrappers.ScaledFloatFrame()\n",
    "env = gym.make('MountainCar-v0')\n",
    "env = ptan.common.wrappers.ScaledFloatFrame(env)\n",
    "selector = ptan.actions.EpsilonGreedyActionSelector(epsilon=0.5)\n",
    "agent = ptan.agent.DQNAgent(action_selector=selector, dqn_model=net)\n",
    "exp_source = ptan.experience.ExperienceSource(env=env, agent=agent, steps_count=2)"
   ]
  },
  {
   "cell_type": "code",
   "execution_count": 134,
   "metadata": {},
   "outputs": [
    {
     "name": "stdout",
     "output_type": "stream",
     "text": [
      "(Experience(state=array([-0.00207415,  0.        ], dtype=float32), action=1, reward=-1.0, done=False), Experience(state=array([-2.0739976e-03,  1.5618286e-07], dtype=float32), action=2, reward=-1.0, done=False))\n",
      "\n"
     ]
    }
   ],
   "source": [
    "for exp in exp_source:\n",
    "    print(exp)\n",
    "    print()\n",
    "    if exp[0].done:\n",
    "        break\n",
    "    break\n",
    "    "
   ]
  },
  {
   "cell_type": "markdown",
   "metadata": {},
   "source": [
    "## Multiple envs"
   ]
  },
  {
   "cell_type": "code",
   "execution_count": 139,
   "metadata": {},
   "outputs": [],
   "source": [
    "# env = gym.make('MountainCar-v0')\n",
    "env1 = ptan.common.wrappers.ScaledFloatFrame(gym.make('MountainCar-v0'))\n",
    "env2 = ptan.common.wrappers.ScaledFloatFrame(gym.make('MountainCar-v0'))\n",
    "selector = ptan.actions.EpsilonGreedyActionSelector(epsilon=0.0)\n",
    "agent = ptan.agent.DQNAgent(action_selector=selector, dqn_model=net)\n",
    "exp_source = ptan.experience.ExperienceSource(env=[env1, env2], agent=agent, steps_count=2)"
   ]
  },
  {
   "cell_type": "code",
   "execution_count": 140,
   "metadata": {},
   "outputs": [
    {
     "name": "stdout",
     "output_type": "stream",
     "text": [
      "(Experience(state=array([-0.00186803,  0.        ], dtype=float32), action=1, reward=-1.0, done=False), Experience(state=array([-1.8694194e-03, -1.3850575e-06], dtype=float32), action=1, reward=-1.0, done=False))\n",
      "\n",
      "(Experience(state=array([-0.00179043,  0.        ], dtype=float32), action=1, reward=-1.0, done=False), Experience(state=array([-1.7923838e-03, -1.9585073e-06], dtype=float32), action=1, reward=-1.0, done=False))\n",
      "\n",
      "(Experience(state=array([-1.8694194e-03, -1.3850575e-06], dtype=float32), action=1, reward=-1.0, done=False), Experience(state=array([-1.8721792e-03, -2.7598307e-06], dtype=float32), action=1, reward=-1.0, done=False))\n",
      "\n",
      "(Experience(state=array([-1.7923838e-03, -1.9585073e-06], dtype=float32), action=1, reward=-1.0, done=False), Experience(state=array([-1.7962866e-03, -3.9026195e-06], dtype=float32), action=1, reward=-1.0, done=False))\n",
      "\n"
     ]
    }
   ],
   "source": [
    "for indx, exp in enumerate(exp_source):\n",
    "    print(exp)\n",
    "    print()\n",
    "    if indx > 2:\n",
    "        break"
   ]
  },
  {
   "cell_type": "markdown",
   "metadata": {},
   "source": [
    "## Exprerience Source First Last"
   ]
  },
  {
   "cell_type": "code",
   "execution_count": 166,
   "metadata": {},
   "outputs": [],
   "source": [
    "exp_source = ptan.experience.ExperienceSourceFirstLast(env1, agent, gamma=1.0, steps_count=2)"
   ]
  },
  {
   "cell_type": "code",
   "execution_count": 181,
   "metadata": {},
   "outputs": [
    {
     "name": "stdout",
     "output_type": "stream",
     "text": [
      "198 ExperienceFirstLast(state=array([-2.0439203e-03, -9.0098847e-06], dtype=float32), action=1, reward=-2.0, last_state=None)\n"
     ]
    }
   ],
   "source": [
    "for indx, exp in enumerate(exp_source):\n",
    "#     print(exp)\n",
    "#     print()\n",
    "\n",
    "    if exp.last_state is None:\n",
    "        print(indx, exp)\n",
    "        break"
   ]
  },
  {
   "cell_type": "markdown",
   "metadata": {},
   "source": [
    "# Buffer"
   ]
  },
  {
   "cell_type": "code",
   "execution_count": 182,
   "metadata": {},
   "outputs": [],
   "source": [
    "buffer = ptan.experience.ExperienceReplayBuffer(exp_source, buffer_size=100)"
   ]
  },
  {
   "cell_type": "code",
   "execution_count": 188,
   "metadata": {},
   "outputs": [
    {
     "data": {
      "text/plain": [
       "100"
      ]
     },
     "execution_count": 188,
     "metadata": {},
     "output_type": "execute_result"
    }
   ],
   "source": [
    "len(buffer)"
   ]
  },
  {
   "cell_type": "code",
   "execution_count": 192,
   "metadata": {},
   "outputs": [
    {
     "data": {
      "text/plain": [
       "[ExperienceFirstLast(state=array([-1.6526101e-03, -1.9449153e-05], dtype=float32), action=1, reward=-2.0, last_state=array([-1.7002235e-03, -2.5205578e-05], dtype=float32)),\n",
       " ExperienceFirstLast(state=array([-1.7946765e-03, -3.2674197e-05], dtype=float32), action=1, reward=-2.0, last_state=array([-1.8655517e-03, -3.6273614e-05], dtype=float32))]"
      ]
     },
     "execution_count": 192,
     "metadata": {},
     "output_type": "execute_result"
    }
   ],
   "source": [
    "buffer.sample(batch_size=2)"
   ]
  },
  {
   "cell_type": "code",
   "execution_count": 205,
   "metadata": {},
   "outputs": [],
   "source": [
    "iterator = buffer.experience_source_iter"
   ]
  },
  {
   "cell_type": "code",
   "execution_count": 425,
   "metadata": {},
   "outputs": [
    {
     "data": {
      "text/plain": [
       "ExperienceFirstLast(state=array([-2.0614208e-03, -1.7047838e-06], dtype=float32), action=1, reward=-2.0, last_state=array([-2.0646360e-03, -1.5710714e-06], dtype=float32))"
      ]
     },
     "execution_count": 425,
     "metadata": {},
     "output_type": "execute_result"
    }
   ],
   "source": [
    "next(iterator)"
   ]
  },
  {
   "cell_type": "code",
   "execution_count": 426,
   "metadata": {},
   "outputs": [],
   "source": [
    "r = exp_source.pop_rewards_steps()"
   ]
  },
  {
   "cell_type": "code",
   "execution_count": 427,
   "metadata": {},
   "outputs": [
    {
     "data": {
      "text/plain": [
       "[(-200.0, 200),\n",
       " (-200.0, 200),\n",
       " (-200.0, 200),\n",
       " (-200.0, 200),\n",
       " (-200.0, 200),\n",
       " (-200.0, 200)]"
      ]
     },
     "execution_count": 427,
     "metadata": {},
     "output_type": "execute_result"
    }
   ],
   "source": [
    "r"
   ]
  },
  {
   "cell_type": "code",
   "execution_count": 430,
   "metadata": {},
   "outputs": [
    {
     "name": "stdout",
     "output_type": "stream",
     "text": [
      "Help on method pop_rewards_steps in module ptan.experience:\n",
      "\n",
      "pop_rewards_steps() method of ptan.experience.ExperienceSourceFirstLast instance\n",
      "\n"
     ]
    }
   ],
   "source": []
  },
  {
   "cell_type": "code",
   "execution_count": 432,
   "metadata": {},
   "outputs": [],
   "source": [
    "import enum\n",
    "class Actions(enum.Enum):\n",
    "    Skip = 0\n",
    "    Buy = 1\n",
    "    Close = 2"
   ]
  },
  {
   "cell_type": "code",
   "execution_count": 434,
   "metadata": {},
   "outputs": [],
   "source": [
    "a = Actions(1)"
   ]
  },
  {
   "cell_type": "code",
   "execution_count": 435,
   "metadata": {},
   "outputs": [
    {
     "data": {
      "text/plain": [
       "'Buy'"
      ]
     },
     "execution_count": 435,
     "metadata": {},
     "output_type": "execute_result"
    }
   ],
   "source": [
    "a.name"
   ]
  },
  {
   "cell_type": "code",
   "execution_count": 436,
   "metadata": {},
   "outputs": [
    {
     "data": {
      "text/plain": [
       "1"
      ]
     },
     "execution_count": 436,
     "metadata": {},
     "output_type": "execute_result"
    }
   ],
   "source": [
    "a.value"
   ]
  },
  {
   "cell_type": "code",
   "execution_count": 437,
   "metadata": {},
   "outputs": [
    {
     "data": {
      "text/plain": [
       "<Actions.Skip: 0>"
      ]
     },
     "execution_count": 437,
     "metadata": {},
     "output_type": "execute_result"
    }
   ],
   "source": [
    "a.Skip"
   ]
  },
  {
   "cell_type": "code",
   "execution_count": 439,
   "metadata": {},
   "outputs": [
    {
     "data": {
      "text/plain": [
       "0"
      ]
     },
     "execution_count": 439,
     "metadata": {},
     "output_type": "execute_result"
    }
   ],
   "source": [
    "a.Skip.value"
   ]
  },
  {
   "cell_type": "code",
   "execution_count": null,
   "metadata": {},
   "outputs": [],
   "source": []
  }
 ],
 "metadata": {
  "kernelspec": {
   "display_name": "Python 3",
   "language": "python",
   "name": "python3"
  },
  "language_info": {
   "codemirror_mode": {
    "name": "ipython",
    "version": 3
   },
   "file_extension": ".py",
   "mimetype": "text/x-python",
   "name": "python",
   "nbconvert_exporter": "python",
   "pygments_lexer": "ipython3",
   "version": "3.7.4"
  }
 },
 "nbformat": 4,
 "nbformat_minor": 4
}
